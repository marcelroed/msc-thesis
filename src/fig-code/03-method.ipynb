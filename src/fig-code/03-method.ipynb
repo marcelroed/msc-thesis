{
 "cells": [
  {
   "cell_type": "code",
   "execution_count": 25,
   "outputs": [
    {
     "data": {
      "text/plain": "array([[1, 1, 1, 0, 0, 0, 0, 0, 0],\n       [1, 1, 1, 0, 4, 0, 0, 0, 0],\n       [1, 1, 1, 0, 0, 0, 0, 0, 0],\n       [0, 0, 0, 2, 2, 0, 0, 0, 0],\n       [0, 4, 0, 2, 2, 0, 0, 4, 0],\n       [0, 0, 0, 0, 0, 3, 3, 3, 3],\n       [0, 0, 0, 0, 0, 3, 3, 3, 3],\n       [0, 0, 0, 0, 4, 3, 3, 3, 3],\n       [0, 0, 0, 0, 0, 3, 3, 3, 3]])"
     },
     "metadata": {},
     "output_type": "display_data"
    },
    {
     "data": {
      "text/plain": "array([[3, 0, 0, 0, 3, 3, 0, 3, 0],\n       [0, 2, 0, 0, 0, 0, 0, 0, 2],\n       [0, 0, 1, 1, 0, 0, 1, 0, 0],\n       [0, 0, 1, 1, 0, 0, 1, 0, 0],\n       [3, 0, 0, 0, 3, 3, 0, 3, 0],\n       [3, 0, 0, 0, 3, 3, 0, 3, 0],\n       [0, 0, 1, 1, 0, 0, 1, 0, 4],\n       [3, 0, 0, 0, 3, 3, 0, 3, 4],\n       [0, 2, 0, 0, 0, 0, 4, 4, 2]])"
     },
     "metadata": {},
     "output_type": "display_data"
    },
    {
     "name": "stdout",
     "output_type": "stream",
     "text": [
      "\\node[blue]{1}; & \\node[blue]{1}; & \\node[blue]{1}; & \\node[black]{0}; & \\node[black]{0}; & \\node[black]{0}; & \\node[black]{0}; & \\node[black]{0}; & \\node[black]{0};\\\\\n",
      "\\node[blue]{1}; & \\node[blue]{1}; & \\node[blue]{1}; & \\node[black]{0}; & \\node[red]{1}; & \\node[black]{0}; & \\node[black]{0}; & \\node[black]{0}; & \\node[black]{0};\\\\\n",
      "\\node[blue]{1}; & \\node[blue]{1}; & \\node[blue]{1}; & \\node[black]{0}; & \\node[black]{0}; & \\node[black]{0}; & \\node[black]{0}; & \\node[black]{0}; & \\node[black]{0};\\\\\n",
      "\\node[black]{0}; & \\node[black]{0}; & \\node[black]{0}; & \\node[cyan]{1}; & \\node[cyan]{1}; & \\node[black]{0}; & \\node[black]{0}; & \\node[black]{0}; & \\node[black]{0};\\\\\n",
      "\\node[black]{0}; & \\node[red]{1}; & \\node[black]{0}; & \\node[cyan]{1}; & \\node[cyan]{1}; & \\node[black]{0}; & \\node[black]{0}; & \\node[red]{1}; & \\node[black]{0};\\\\\n",
      "\\node[black]{0}; & \\node[black]{0}; & \\node[black]{0}; & \\node[black]{0}; & \\node[black]{0}; & \\node[orange]{1}; & \\node[orange]{1}; & \\node[orange]{1}; & \\node[orange]{1};\\\\\n",
      "\\node[black]{0}; & \\node[black]{0}; & \\node[black]{0}; & \\node[black]{0}; & \\node[black]{0}; & \\node[orange]{1}; & \\node[orange]{1}; & \\node[orange]{1}; & \\node[orange]{1};\\\\\n",
      "\\node[black]{0}; & \\node[black]{0}; & \\node[black]{0}; & \\node[black]{0}; & \\node[red]{1}; & \\node[orange]{1}; & \\node[orange]{1}; & \\node[orange]{1}; & \\node[orange]{1};\\\\\n",
      "\\node[black]{0}; & \\node[black]{0}; & \\node[black]{0}; & \\node[black]{0}; & \\node[black]{0}; & \\node[orange]{1}; & \\node[orange]{1}; & \\node[orange]{1}; & \\node[orange]{1};\\\\\n",
      "\n",
      "\\node[orange]{1}; & \\node[black]{0}; & \\node[black]{0}; & \\node[black]{0}; & \\node[orange]{1}; & \\node[orange]{1}; & \\node[black]{0}; & \\node[orange]{1}; & \\node[black]{0};\\\\\n",
      "\\node[black]{0}; & \\node[cyan]{1}; & \\node[black]{0}; & \\node[black]{0}; & \\node[black]{0}; & \\node[black]{0}; & \\node[black]{0}; & \\node[black]{0}; & \\node[cyan]{1};\\\\\n",
      "\\node[black]{0}; & \\node[black]{0}; & \\node[blue]{1}; & \\node[blue]{1}; & \\node[black]{0}; & \\node[black]{0}; & \\node[blue]{1}; & \\node[black]{0}; & \\node[black]{0};\\\\\n",
      "\\node[black]{0}; & \\node[black]{0}; & \\node[blue]{1}; & \\node[blue]{1}; & \\node[black]{0}; & \\node[black]{0}; & \\node[blue]{1}; & \\node[black]{0}; & \\node[black]{0};\\\\\n",
      "\\node[orange]{1}; & \\node[black]{0}; & \\node[black]{0}; & \\node[black]{0}; & \\node[orange]{1}; & \\node[orange]{1}; & \\node[black]{0}; & \\node[orange]{1}; & \\node[black]{0};\\\\\n",
      "\\node[orange]{1}; & \\node[black]{0}; & \\node[black]{0}; & \\node[black]{0}; & \\node[orange]{1}; & \\node[orange]{1}; & \\node[black]{0}; & \\node[orange]{1}; & \\node[black]{0};\\\\\n",
      "\\node[black]{0}; & \\node[black]{0}; & \\node[blue]{1}; & \\node[blue]{1}; & \\node[black]{0}; & \\node[black]{0}; & \\node[blue]{1}; & \\node[black]{0}; & \\node[red]{1};\\\\\n",
      "\\node[orange]{1}; & \\node[black]{0}; & \\node[black]{0}; & \\node[black]{0}; & \\node[orange]{1}; & \\node[orange]{1}; & \\node[black]{0}; & \\node[orange]{1}; & \\node[red]{1};\\\\\n",
      "\\node[black]{0}; & \\node[cyan]{1}; & \\node[black]{0}; & \\node[black]{0}; & \\node[black]{0}; & \\node[black]{0}; & \\node[red]{1}; & \\node[red]{1}; & \\node[cyan]{1};\\\\\n"
     ]
    }
   ],
   "source": [
    "import numpy as np\n",
    "import matplotlib.pyplot as plt\n",
    "import matplotlib as mpl\n",
    "from scipy.linalg import block_diag\n",
    "from shared import get_figdir\n",
    "from IPython.display import display\n",
    "\n",
    "# Set latex font\n",
    "mpl.rc('text', usetex=True)\n",
    "\n",
    "figdir = get_figdir('03-method')\n",
    "\n",
    "blocked = block_diag(np.full((3, 3), 1, dtype=int), np.full((2, 2), 2, dtype=int), np.full((4, 4), 3, dtype=int))\n",
    "\n",
    "colors = ['black', 'blue', 'cyan', 'orange', 'red']\n",
    "\n",
    "# Connections between the clusters\n",
    "blocked[1, 4] = blocked[4, 1] = 4\n",
    "blocked[4, 7] = blocked[7, 4] = 4\n",
    "display(blocked)\n",
    "\n",
    "permutation_matrix = np.random.permutation(np.eye(len(blocked), dtype=int))\n",
    "permutation = permutation_matrix @ blocked @ permutation_matrix.T\n",
    "display(permutation)\n",
    "\n",
    "def format_node(val):\n",
    "    return f'\\\\node[{colors[val]}]{{{1 if val > 0 else 0}}};'\n",
    "\n",
    "# Print the TikZ code\n",
    "def as_tikz(matrix):\n",
    "    for row in matrix:\n",
    "        print(' & '.join([format_node(e) for e in row]), end='\\\\\\\\\\n')\n",
    "\n",
    "as_tikz(blocked)\n",
    "print()\n",
    "as_tikz(permutation)"
   ],
   "metadata": {
    "collapsed": false,
    "pycharm": {
     "name": "#%%\n"
    }
   }
  },
  {
   "cell_type": "code",
   "execution_count": null,
   "outputs": [],
   "source": [],
   "metadata": {
    "collapsed": false,
    "pycharm": {
     "name": "#%%\n"
    }
   }
  }
 ],
 "metadata": {
  "kernelspec": {
   "display_name": "Python 3",
   "language": "python",
   "name": "python3"
  },
  "language_info": {
   "codemirror_mode": {
    "name": "ipython",
    "version": 2
   },
   "file_extension": ".py",
   "mimetype": "text/x-python",
   "name": "python",
   "nbconvert_exporter": "python",
   "pygments_lexer": "ipython2",
   "version": "2.7.6"
  }
 },
 "nbformat": 4,
 "nbformat_minor": 0
}